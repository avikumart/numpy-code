{
 "cells": [
  {
   "cell_type": "code",
   "execution_count": 1,
   "id": "b857f0bb",
   "metadata": {},
   "outputs": [],
   "source": [
    "import numpy as np\n",
    "\n"
   ]
  },
  {
   "cell_type": "code",
   "execution_count": 2,
   "id": "0537f0c4",
   "metadata": {},
   "outputs": [
    {
     "name": "stdout",
     "output_type": "stream",
     "text": [
      "[12 45 78 69 21]\n"
     ]
    }
   ],
   "source": [
    "arr = np.array([12,45,78,69,21])\n",
    "\n",
    "print(arr)"
   ]
  },
  {
   "cell_type": "code",
   "execution_count": 3,
   "id": "7d5b0c8e",
   "metadata": {},
   "outputs": [
    {
     "data": {
      "text/plain": [
       "numpy.ndarray"
      ]
     },
     "execution_count": 3,
     "metadata": {},
     "output_type": "execute_result"
    }
   ],
   "source": [
    "type(arr)"
   ]
  },
  {
   "cell_type": "code",
   "execution_count": 4,
   "id": "7fd46e35",
   "metadata": {},
   "outputs": [
    {
     "name": "stdout",
     "output_type": "stream",
     "text": [
      "1.20.1\n"
     ]
    }
   ],
   "source": [
    "print(np.__version__)"
   ]
  },
  {
   "cell_type": "code",
   "execution_count": 9,
   "id": "ef7797e4",
   "metadata": {},
   "outputs": [
    {
     "name": "stdout",
     "output_type": "stream",
     "text": [
      "[[1 2 3]\n",
      " [4 5 6]\n",
      " [7 8 9]]\n"
     ]
    }
   ],
   "source": [
    "arr1 = np.array([[1,2,3],[4,5,6],[7,8,9]])\n",
    "\n",
    "print(arr1)"
   ]
  },
  {
   "cell_type": "code",
   "execution_count": 11,
   "id": "69efddb5",
   "metadata": {},
   "outputs": [
    {
     "name": "stdout",
     "output_type": "stream",
     "text": [
      "2\n"
     ]
    }
   ],
   "source": [
    "print(arr1.ndim)"
   ]
  },
  {
   "cell_type": "code",
   "execution_count": 12,
   "id": "04e97627",
   "metadata": {},
   "outputs": [
    {
     "name": "stdout",
     "output_type": "stream",
     "text": [
      "[[[[[1 2 3 4 6]]]]]\n"
     ]
    }
   ],
   "source": [
    "arr2= np.array([1,2,3,4,6], ndmin=5)\n",
    "\n",
    "print(arr2)\n"
   ]
  },
  {
   "cell_type": "code",
   "execution_count": 14,
   "id": "ce48a607",
   "metadata": {},
   "outputs": [
    {
     "name": "stdout",
     "output_type": "stream",
     "text": [
      "5\n"
     ]
    }
   ],
   "source": [
    "print(arr2.ndim)"
   ]
  },
  {
   "cell_type": "code",
   "execution_count": 16,
   "id": "73792118",
   "metadata": {},
   "outputs": [
    {
     "name": "stdout",
     "output_type": "stream",
     "text": [
      "[[[ 1  2  3]\n",
      "  [ 4  5  6]\n",
      "  [ 7  8  9]]\n",
      "\n",
      " [[ 7  8  9]\n",
      "  [ 4  8  3]\n",
      "  [ 1  5 90]]]\n",
      "<class 'numpy.ndarray'>\n",
      "3\n"
     ]
    }
   ],
   "source": [
    "arr3 = np.array([[[1,2,3],[4,5,6],[7,8,9]],[[7,8,9],[4,8,3],[1,5,90]]])\n",
    "\n",
    "print(arr3)\n",
    "print(type(arr3))\n",
    "print(arr3.ndim)"
   ]
  },
  {
   "cell_type": "code",
   "execution_count": 17,
   "id": "da3d8342",
   "metadata": {},
   "outputs": [
    {
     "name": "stdout",
     "output_type": "stream",
     "text": [
      "12\n"
     ]
    }
   ],
   "source": [
    "print(arr[0])"
   ]
  },
  {
   "cell_type": "code",
   "execution_count": 18,
   "id": "86e1e025",
   "metadata": {},
   "outputs": [
    {
     "data": {
      "text/plain": [
       "57"
      ]
     },
     "execution_count": 18,
     "metadata": {},
     "output_type": "execute_result"
    }
   ],
   "source": [
    "arr[0] + arr[1]"
   ]
  },
  {
   "cell_type": "code",
   "execution_count": 20,
   "id": "a7a4d2c9",
   "metadata": {},
   "outputs": [
    {
     "name": "stdout",
     "output_type": "stream",
     "text": [
      "2\n"
     ]
    }
   ],
   "source": [
    "print(arr1[0,1])"
   ]
  },
  {
   "cell_type": "code",
   "execution_count": 6,
   "id": "72bb05be",
   "metadata": {},
   "outputs": [
    {
     "name": "stdout",
     "output_type": "stream",
     "text": [
      "[2 3]\n"
     ]
    }
   ],
   "source": [
    "import numpy as np\n",
    "\n",
    "\n",
    "arr = np.array([1,2,3,4,5,6,7])\n",
    "\n",
    "\n",
    "print(arr[1:3])"
   ]
  },
  {
   "cell_type": "code",
   "execution_count": 7,
   "id": "24bcc670",
   "metadata": {},
   "outputs": [
    {
     "name": "stdout",
     "output_type": "stream",
     "text": [
      "[1 3]\n"
     ]
    }
   ],
   "source": [
    "print(arr[0:4:2])"
   ]
  },
  {
   "cell_type": "code",
   "execution_count": 8,
   "id": "847fbefb",
   "metadata": {},
   "outputs": [
    {
     "name": "stdout",
     "output_type": "stream",
     "text": [
      "[1 3 5 7]\n"
     ]
    }
   ],
   "source": [
    "print(arr[::2])"
   ]
  },
  {
   "cell_type": "code",
   "execution_count": 11,
   "id": "fde04e65",
   "metadata": {},
   "outputs": [
    {
     "name": "stdout",
     "output_type": "stream",
     "text": [
      "[1 3 5 7]\n"
     ]
    }
   ],
   "source": [
    "print(arr[0::2])"
   ]
  },
  {
   "cell_type": "code",
   "execution_count": 12,
   "id": "a9941f6f",
   "metadata": {},
   "outputs": [
    {
     "data": {
      "text/plain": [
       "numpy.ndarray"
      ]
     },
     "execution_count": 12,
     "metadata": {},
     "output_type": "execute_result"
    }
   ],
   "source": [
    "type(arr)"
   ]
  },
  {
   "cell_type": "code",
   "execution_count": 13,
   "id": "af53f0fe",
   "metadata": {},
   "outputs": [
    {
     "name": "stdout",
     "output_type": "stream",
     "text": [
      "int32\n"
     ]
    }
   ],
   "source": [
    "print(arr.dtype)"
   ]
  },
  {
   "cell_type": "code",
   "execution_count": 14,
   "id": "a2ec5e4e",
   "metadata": {},
   "outputs": [],
   "source": [
    "newarr = arr.astype(\"S\")"
   ]
  },
  {
   "cell_type": "code",
   "execution_count": 15,
   "id": "a493af48",
   "metadata": {},
   "outputs": [
    {
     "name": "stdout",
     "output_type": "stream",
     "text": [
      "[b'1' b'2' b'3' b'4' b'5' b'6' b'7']\n"
     ]
    }
   ],
   "source": [
    "print(newarr)"
   ]
  },
  {
   "cell_type": "markdown",
   "id": "bf237338",
   "metadata": {},
   "source": [
    "#newarr.dtype"
   ]
  },
  {
   "cell_type": "code",
   "execution_count": 3,
   "id": "18f8ffc4",
   "metadata": {},
   "outputs": [
    {
     "name": "stdout",
     "output_type": "stream",
     "text": [
      "[ 1 45  3 45  6]\n",
      "[ 1  2  3 45  6]\n",
      "[ 1 45  3 45  6]\n"
     ]
    }
   ],
   "source": [
    "import numpy as np\n",
    "\n",
    "arr = np.array([1,2,3,45,6])\n",
    "\n",
    "new = arr.copy()\n",
    "new1 = arr.view()\n",
    "arr[1] = 45\n",
    "\n",
    "print(arr)\n",
    "print(new)\n",
    "print(new1)"
   ]
  },
  {
   "cell_type": "code",
   "execution_count": 4,
   "id": "07d5ef59",
   "metadata": {},
   "outputs": [
    {
     "name": "stdout",
     "output_type": "stream",
     "text": [
      "None\n"
     ]
    }
   ],
   "source": [
    "print(arr.base)\n"
   ]
  },
  {
   "cell_type": "code",
   "execution_count": 5,
   "id": "585eef50",
   "metadata": {},
   "outputs": [
    {
     "name": "stdout",
     "output_type": "stream",
     "text": [
      "None\n"
     ]
    }
   ],
   "source": [
    "print(new.base)\n"
   ]
  },
  {
   "cell_type": "code",
   "execution_count": 6,
   "id": "6806dba4",
   "metadata": {},
   "outputs": [
    {
     "name": "stdout",
     "output_type": "stream",
     "text": [
      "[ 1 45  3 45  6]\n"
     ]
    }
   ],
   "source": [
    "print(new1.base)"
   ]
  },
  {
   "cell_type": "code",
   "execution_count": 7,
   "id": "993e03fa",
   "metadata": {},
   "outputs": [
    {
     "name": "stdout",
     "output_type": "stream",
     "text": [
      "(5,)\n"
     ]
    }
   ],
   "source": [
    "print(arr.shape)"
   ]
  },
  {
   "cell_type": "code",
   "execution_count": 8,
   "id": "54ce7bca",
   "metadata": {},
   "outputs": [
    {
     "data": {
      "text/plain": [
       "1"
      ]
     },
     "execution_count": 8,
     "metadata": {},
     "output_type": "execute_result"
    }
   ],
   "source": [
    "arr.ndim\n"
   ]
  },
  {
   "cell_type": "code",
   "execution_count": 13,
   "id": "70ad17ac",
   "metadata": {},
   "outputs": [
    {
     "name": "stdout",
     "output_type": "stream",
     "text": [
      "[[ 1]\n",
      " [45]\n",
      " [ 3]\n",
      " [45]\n",
      " [ 6]]\n"
     ]
    }
   ],
   "source": [
    "x = arr.reshape(5,1)\n",
    "\n",
    "print(arr.reshape(5,1))"
   ]
  },
  {
   "cell_type": "code",
   "execution_count": 14,
   "id": "3ff1bcee",
   "metadata": {},
   "outputs": [
    {
     "data": {
      "text/plain": [
       "2"
      ]
     },
     "execution_count": 14,
     "metadata": {},
     "output_type": "execute_result"
    }
   ],
   "source": [
    "x.ndim"
   ]
  },
  {
   "cell_type": "code",
   "execution_count": 15,
   "id": "a08a29ff",
   "metadata": {},
   "outputs": [
    {
     "data": {
      "text/plain": [
       "dtype('int32')"
      ]
     },
     "execution_count": 15,
     "metadata": {},
     "output_type": "execute_result"
    }
   ],
   "source": [
    "x.dtype"
   ]
  },
  {
   "cell_type": "code",
   "execution_count": 16,
   "id": "7c7ff78d",
   "metadata": {},
   "outputs": [
    {
     "name": "stdout",
     "output_type": "stream",
     "text": [
      "1\n",
      "45\n",
      "3\n",
      "45\n",
      "6\n"
     ]
    }
   ],
   "source": [
    "for x in arr:\n",
    "    print(x)"
   ]
  },
  {
   "cell_type": "code",
   "execution_count": 17,
   "id": "f483fef8",
   "metadata": {},
   "outputs": [
    {
     "name": "stdout",
     "output_type": "stream",
     "text": [
      "1\n",
      "45\n",
      "3\n",
      "45\n",
      "6\n"
     ]
    }
   ],
   "source": [
    "for x in np.nditer(arr):\n",
    "    print(x)"
   ]
  },
  {
   "cell_type": "code",
   "execution_count": 33,
   "id": "5f147812",
   "metadata": {},
   "outputs": [
    {
     "name": "stdout",
     "output_type": "stream",
     "text": [
      "4\n",
      "5\n",
      "6\n",
      "7\n",
      "1\n",
      "2\n",
      "3\n",
      "7\n"
     ]
    }
   ],
   "source": [
    "arr1 = np.array([[4,5,6,7],[1,2,3,7]])\n",
    "\n",
    "\n",
    "for x in np.nditer(arr1):\n",
    "    print(x)"
   ]
  },
  {
   "cell_type": "code",
   "execution_count": 62,
   "id": "3557d673",
   "metadata": {},
   "outputs": [
    {
     "name": "stdout",
     "output_type": "stream",
     "text": [
      "16\n",
      "25\n",
      "36\n",
      "49\n",
      "1\n",
      "4\n",
      "9\n",
      "49\n"
     ]
    }
   ],
   "source": [
    "for y in np.nditer(arr1):\n",
    "         result = y**2\n",
    "         print(result)"
   ]
  },
  {
   "cell_type": "markdown",
   "id": "99f90dc5",
   "metadata": {},
   "source": []
  },
  {
   "cell_type": "code",
   "execution_count": 7,
   "id": "90f295d6",
   "metadata": {},
   "outputs": [
    {
     "name": "stdout",
     "output_type": "stream",
     "text": [
      "[[1 2 3 4 5 6]\n",
      " [7 5 3 1 5 9]]\n"
     ]
    }
   ],
   "source": [
    "import numpy as np\n",
    "\n",
    "arr1 = np.array([[1,2,3],[7,5,3]])\n",
    "arr2 = np.array([[4,5,6],[1,5,9]])\n",
    "\n",
    "arr3 = np.concatenate((arr1,arr2), axis = 1)\n",
    "print(arr3)"
   ]
  },
  {
   "cell_type": "code",
   "execution_count": 11,
   "id": "97045fad",
   "metadata": {},
   "outputs": [
    {
     "name": "stdout",
     "output_type": "stream",
     "text": [
      "[[[1 2 3]\n",
      "  [4 5 6]]\n",
      "\n",
      " [[7 5 3]\n",
      "  [1 5 9]]]\n"
     ]
    }
   ],
   "source": [
    "arr4 = np.stack((arr1,arr2),axis=1)\n",
    "print(arr4)"
   ]
  },
  {
   "cell_type": "code",
   "execution_count": 14,
   "id": "128de618",
   "metadata": {},
   "outputs": [
    {
     "name": "stdout",
     "output_type": "stream",
     "text": [
      "[[1 2 3]\n",
      " [7 5 3]\n",
      " [4 5 6]\n",
      " [1 5 9]]\n"
     ]
    }
   ],
   "source": [
    "arr5= np.vstack((arr1,arr2))\n",
    "print(arr5)\n"
   ]
  },
  {
   "cell_type": "code",
   "execution_count": 18,
   "id": "b4123815",
   "metadata": {},
   "outputs": [
    {
     "name": "stdout",
     "output_type": "stream",
     "text": [
      "[[[1 4]\n",
      "  [2 5]\n",
      "  [3 6]]\n",
      "\n",
      " [[7 1]\n",
      "  [5 5]\n",
      "  [3 9]]]\n"
     ]
    }
   ],
   "source": [
    "arr6=np.dstack((arr1,arr2))\n",
    "print(arr6)"
   ]
  },
  {
   "cell_type": "code",
   "execution_count": 19,
   "id": "7a8b79f7",
   "metadata": {},
   "outputs": [
    {
     "name": "stdout",
     "output_type": "stream",
     "text": [
      "[array([[1, 2, 3]]), array([[7, 5, 3]]), array([], shape=(0, 3), dtype=int32)]\n"
     ]
    }
   ],
   "source": [
    "arr7 = np.array_split(arr1, 3)\n",
    "print(arr7)"
   ]
  },
  {
   "cell_type": "code",
   "execution_count": 24,
   "id": "ea710ba1",
   "metadata": {},
   "outputs": [
    {
     "name": "stdout",
     "output_type": "stream",
     "text": [
      "[array([[1],\n",
      "       [7]]), array([[2],\n",
      "       [5]]), array([[3],\n",
      "       [3]])]\n"
     ]
    }
   ],
   "source": [
    "arr8 = np.hsplit(arr1, 3)\n",
    "print(arr8)\n"
   ]
  },
  {
   "cell_type": "markdown",
   "id": "be8379d8",
   "metadata": {},
   "source": [
    "#array search"
   ]
  },
  {
   "cell_type": "code",
   "execution_count": 28,
   "id": "81c2a03a",
   "metadata": {},
   "outputs": [
    {
     "name": "stdout",
     "output_type": "stream",
     "text": [
      "(array([5], dtype=int64),)\n"
     ]
    }
   ],
   "source": [
    "arr = np.array([4,5,6,7,8,1,3,2,9])\n",
    "\n",
    "x = np.where(arr == 1)\n",
    "print(x)"
   ]
  },
  {
   "cell_type": "code",
   "execution_count": 33,
   "id": "c85c77a7",
   "metadata": {},
   "outputs": [
    {
     "name": "stdout",
     "output_type": "stream",
     "text": [
      "(array([1, 3, 5, 6, 8], dtype=int64),)\n"
     ]
    }
   ],
   "source": [
    "y = np.where(arr%2 == 1)\n",
    "\n",
    "\n",
    "print(y)"
   ]
  },
  {
   "cell_type": "code",
   "execution_count": 39,
   "id": "9bafc24c",
   "metadata": {},
   "outputs": [
    {
     "name": "stdout",
     "output_type": "stream",
     "text": [
      "0\n"
     ]
    }
   ],
   "source": [
    "z = np.searchsorted(arr, 2)\n",
    "print(z)"
   ]
  },
  {
   "cell_type": "code",
   "execution_count": 41,
   "id": "803c3f0f",
   "metadata": {},
   "outputs": [
    {
     "name": "stdout",
     "output_type": "stream",
     "text": [
      "[1 2 3 4 5 6 7 8 9]\n"
     ]
    }
   ],
   "source": [
    "q=np.sort(arr)\n",
    "print(q)"
   ]
  },
  {
   "cell_type": "code",
   "execution_count": 43,
   "id": "331aae8c",
   "metadata": {},
   "outputs": [
    {
     "name": "stdout",
     "output_type": "stream",
     "text": [
      "None\n"
     ]
    }
   ],
   "source": [
    "print(q.base)"
   ]
  },
  {
   "cell_type": "code",
   "execution_count": 44,
   "id": "45cbbfcd",
   "metadata": {},
   "outputs": [
    {
     "name": "stdout",
     "output_type": "stream",
     "text": [
      "1\n"
     ]
    }
   ],
   "source": [
    "print(q.ndim)"
   ]
  },
  {
   "cell_type": "code",
   "execution_count": 45,
   "id": "8ab9f308",
   "metadata": {},
   "outputs": [
    {
     "name": "stdout",
     "output_type": "stream",
     "text": [
      "(9,)\n"
     ]
    }
   ],
   "source": [
    "print(q.shape)"
   ]
  },
  {
   "cell_type": "code",
   "execution_count": 49,
   "id": "310727ba",
   "metadata": {},
   "outputs": [
    {
     "name": "stdout",
     "output_type": "stream",
     "text": [
      "[[1 2 3]\n",
      " [4 5 6]\n",
      " [7 8 9]]\n"
     ]
    }
   ],
   "source": [
    "print(q.reshape(3,3))"
   ]
  },
  {
   "cell_type": "markdown",
   "id": "da949d3e",
   "metadata": {},
   "source": [
    "# filtering arrays"
   ]
  },
  {
   "cell_type": "code",
   "execution_count": 55,
   "id": "2147c1b4",
   "metadata": {},
   "outputs": [
    {
     "name": "stdout",
     "output_type": "stream",
     "text": [
      "[10 86 69 43]\n",
      "[True, False, True, False, True, False, True]\n",
      "[10 45 86 23 69 78 43]\n"
     ]
    }
   ],
   "source": [
    "arr = np.array([10,45,86,23,69,78,43])\n",
    "\n",
    "x = [True,False,True,False,True,False,True]\n",
    "\n",
    "newarr = arr[x]\n",
    "\n",
    "print(newarr)\n",
    "print(x)\n",
    "print(arr)"
   ]
  },
  {
   "cell_type": "code",
   "execution_count": 59,
   "id": "7735ee87",
   "metadata": {},
   "outputs": [
    {
     "name": "stdout",
     "output_type": "stream",
     "text": [
      "[False, False, True, False, True, True, False]\n",
      "[86 69 78]\n"
     ]
    }
   ],
   "source": [
    "filter_array = []\n",
    "\n",
    "for item in arr:\n",
    "    if item > 50:\n",
    "        filter_array.append(True)\n",
    "    else:\n",
    "        filter_array.append(False)\n",
    "           \n",
    "newarr = arr[filter_array]\n",
    "\n",
    "print(filter_array)\n",
    "print(newarr)"
   ]
  },
  {
   "cell_type": "code",
   "execution_count": 60,
   "id": "1014d257",
   "metadata": {},
   "outputs": [
    {
     "name": "stdout",
     "output_type": "stream",
     "text": [
      "[45 86 69 78 43]\n"
     ]
    }
   ],
   "source": [
    "filterdarr = arr >= 25\n",
    "\n",
    "newar = arr[filterdarr]\n",
    "\n",
    "print(newar)"
   ]
  },
  {
   "cell_type": "code",
   "execution_count": 61,
   "id": "3511e03e",
   "metadata": {},
   "outputs": [
    {
     "name": "stdout",
     "output_type": "stream",
     "text": [
      "False\n",
      "False\n",
      "True\n",
      "False\n",
      "True\n",
      "True\n",
      "False\n"
     ]
    }
   ],
   "source": [
    "def filterd_arr(array):\n",
    "    for x in arr:\n",
    "        if x > 50:\n",
    "            print(True)\n",
    "        else:\n",
    "            print(False)\n",
    "            \n",
    "            \n",
    "filterd_arr(arr)\n",
    "            "
   ]
  },
  {
   "cell_type": "code",
   "execution_count": 65,
   "id": "17245a7d",
   "metadata": {},
   "outputs": [
    {
     "name": "stdout",
     "output_type": "stream",
     "text": [
      "[10 86 78]\n",
      "[ True False  True False False  True False]\n"
     ]
    }
   ],
   "source": [
    "filtered_arr = arr % 2 != 1\n",
    "\n",
    "newarr1 = arr[filtered_arr]\n",
    "\n",
    "print(newarr1)\n",
    "print(filtered_arr)"
   ]
  },
  {
   "cell_type": "code",
   "execution_count": null,
   "id": "e70d1018",
   "metadata": {},
   "outputs": [],
   "source": []
  }
 ],
 "metadata": {
  "kernelspec": {
   "display_name": "Python 3",
   "language": "python",
   "name": "python3"
  },
  "language_info": {
   "codemirror_mode": {
    "name": "ipython",
    "version": 3
   },
   "file_extension": ".py",
   "mimetype": "text/x-python",
   "name": "python",
   "nbconvert_exporter": "python",
   "pygments_lexer": "ipython3",
   "version": "3.8.8"
  }
 },
 "nbformat": 4,
 "nbformat_minor": 5
}
